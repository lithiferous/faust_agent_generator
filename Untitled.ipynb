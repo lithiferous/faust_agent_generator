{
 "cells": [
  {
   "cell_type": "code",
   "execution_count": 1,
   "metadata": {},
   "outputs": [
    {
     "name": "stdout",
     "output_type": "stream",
     "text": [
      "services:\n",
      "    8u121-jre:\n",
      "        command:\n",
      "        - /entrypoint.sh\n",
      "        healthcheck:\n",
      "            test: curl --fail --insecure https://localhost:9443/\n",
      "        image: openjdk:8u121-jre\n",
      "        ports:\n",
      "        - '9000'\n",
      "        - '9443'\n",
      "        volumes:\n",
      "        - ./entrypoint.sh:/entrypoint.sh:ro\n",
      "        - ./svc:/svc:ro\n",
      "    8u121-jre-alpine:\n",
      "        command:\n",
      "        - /entrypoint.sh\n",
      "        healthcheck:\n",
      "            test: curl --fail --insecure https://localhost:9443/\n",
      "        image: openjdk:8u121-jre-alpine\n",
      "        ports:\n",
      "        - '9000'\n",
      "        - '9443'\n",
      "        volumes:\n",
      "        - ./entrypoint.sh:/entrypoint.sh:ro\n",
      "        - ./svc:/svc:ro\n",
      "    client:\n",
      "        command:\n",
      "        - /entrypoint.sh\n",
      "        image: ubuntu:14.04\n",
      "        volumes:\n",
      "        - ./entrypoint.sh:/entrypoint.sh:ro\n",
      "version: '3'\n"
     ]
    }
   ],
   "source": [
    "from __future__ import print_function\n",
    "\n",
    "try:\n",
    "    from ruamel import yaml\n",
    "except ImportError:\n",
    "    import yaml\n",
    "\n",
    "\n",
    "# Map a Docker Compose \"service\" name to its image.\n",
    "SERVICES = {\n",
    "    'client': 'ubuntu:14.04',\n",
    "    '8u121-jre-alpine': 'openjdk:8u121-jre-alpine',\n",
    "    '8u121-jre': 'openjdk:8u121-jre',\n",
    "}\n",
    "\n",
    "\n",
    "# docker-compose.yml skeleton to fill out using \"service\" entries above.\n",
    "COMPOSITION = {'services': {}, 'version': '3'}\n",
    "\n",
    "\n",
    "def servicize(name, image):\n",
    "    '''Create a docker-compose.yml service-section entry.\n",
    "    Params\n",
    "    ======\n",
    "    name : str\n",
    "        Name of the service.\n",
    "    image : str\n",
    "        Docker image to use (what your FROM line would contain).\n",
    "    Returns\n",
    "    =======\n",
    "        dict describing the service. A name starting with 'client' is special.\n",
    "    '''\n",
    "    entry = {'command': ['/entrypoint.sh'],\n",
    "             'image': image,\n",
    "             'volumes': ['./entrypoint.sh:/entrypoint.sh:ro']}\n",
    "    if not name.startswith('client'):\n",
    "        entry['ports'] = ['9000', '9443']\n",
    "        entry['healthcheck'] = {\n",
    "            'test': 'curl --fail --insecure https://localhost:9443/'}\n",
    "        entry['volumes'].append('./svc:/svc:ro')\n",
    "    return entry\n",
    "\n",
    "\n",
    "if __name__ == '__main__':\n",
    "    for name, image in SERVICES.items():\n",
    "        COMPOSITION['services'][name] = servicize(name, image)\n",
    "    print(yaml.dump(COMPOSITION, default_flow_style=False, indent=4), end='')"
   ]
  },
  {
   "cell_type": "code",
   "execution_count": null,
   "metadata": {},
   "outputs": [],
   "source": []
  }
 ],
 "metadata": {
  "kernelspec": {
   "display_name": "Python 3",
   "language": "python",
   "name": "python3"
  },
  "language_info": {
   "codemirror_mode": {
    "name": "ipython",
    "version": 3
   },
   "file_extension": ".py",
   "mimetype": "text/x-python",
   "name": "python",
   "nbconvert_exporter": "python",
   "pygments_lexer": "ipython3",
   "version": "3.8.3"
  }
 },
 "nbformat": 4,
 "nbformat_minor": 4
}
