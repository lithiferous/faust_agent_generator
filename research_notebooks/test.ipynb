{
 "cells": [
  {
   "cell_type": "code",
   "execution_count": 4,
   "metadata": {},
   "outputs": [],
   "source": [
    "import sys; sys.path.append('../shared_functions')"
   ]
  },
  {
   "cell_type": "code",
   "execution_count": 13,
   "metadata": {},
   "outputs": [],
   "source": [
    "import random\n",
    "from time import time\n",
    "from datetime import datetime, timedelta\n",
    "from function_a import AggModelA, RawModel"
   ]
  },
  {
   "cell_type": "code",
   "execution_count": 14,
   "metadata": {},
   "outputs": [],
   "source": [
    "val, dt = random.random(), int(time())\n",
    "load = RawModel(value=val, date=dt)"
   ]
  },
  {
   "cell_type": "code",
   "execution_count": 50,
   "metadata": {},
   "outputs": [],
   "source": [
    "from function_a import print_windowed_events, source"
   ]
  },
  {
   "cell_type": "code",
   "execution_count": 79,
   "metadata": {},
   "outputs": [],
   "source": [
    "from function_a import app"
   ]
  },
  {
   "cell_type": "code",
   "execution_count": 86,
   "metadata": {},
   "outputs": [],
   "source": [
    "from datetime import datetime, timedelta\n",
    "from time import time\n",
    "import faust\n",
    "import logging\n",
    "import os\n",
    "import pytest\n",
    "import random\n",
    "import sys\n",
    "\n",
    "if os.environ.get('DEV') is None:\n",
    "    sys.path.append('../data_processing')\n",
    "\n",
    "from processing_module.app import app\n",
    "logger = logging.getLogger(__name__)\n",
    "\n",
    "TOPIC = 'raw-event'\n",
    "SINK = 'agg-event-a'\n",
    "TABLE = 'table_b'\n",
    "CLEANUP_INTERVAL = 7.5\n",
    "WINDOW = 5\n",
    "WINDOW_EXPIRES = 10\n",
    "PARTITIONS = 1\n",
    "\n",
    "\n",
    "class RawModel(faust.Record):\n",
    "    date: datetime\n",
    "    value: float\n",
    "\n",
    "\n",
    "class AggModelA(faust.Record):\n",
    "    date: datetime\n",
    "    count: int\n",
    "    mean: float\n",
    "\n",
    "\n",
    "app.conf.table_cleanup_interval = CLEANUP_INTERVAL\n",
    "source = app.topic(TOPIC, partitions=PARTITIONS, value_type=RawModel)\n",
    "sink = app.topic(SINK, value_type=AggModelA)\n",
    "\n",
    "\n",
    "def window_processor(key, events):\n",
    "    timestamp = key[1][0]\n",
    "    values = [event.value for event in events]\n",
    "    count = len(values)\n",
    "    mean = sum(values) / count\n",
    "\n",
    "    logger.info(f\"\"\"\n",
    "    processing window:\n",
    "    {len(values)} events,\n",
    "    mean: {mean:.2f},\n",
    "    timestamp {timestamp}\n",
    "    \"\"\")\n",
    "\n",
    "    sink.send_soon(value=AggModelA(date=timestamp, count=count, mean=mean))\n",
    "\n",
    "\n",
    "tumbling_table = (app.Table(\n",
    "    TABLE,\n",
    "    default=list,\n",
    "    partitions=PARTITIONS,\n",
    "    on_window_close=window_processor,\n",
    ").tumbling(WINDOW,\n",
    "           expires=timedelta(seconds=WINDOW_EXPIRES)).relative_to_field(\n",
    "               RawModel.date))\n",
    "\n",
    "\n",
    "@app.agent(source)\n",
    "async def print_windowed_events(stream):\n",
    "    async for event in stream:\n",
    "        value_list = tumbling_table['events'].value()\n",
    "        value_list.append(event)\n",
    "        tumbling_table['events'] = value_list\n",
    "        yield event\n",
    "\n",
    "\n",
    "@app.timer(0.1)\n",
    "async def produce():\n",
    "    await source.send(value=RawModel(value=random.random(), date=int(time())))"
   ]
  },
  {
   "cell_type": "code",
   "execution_count": 96,
   "metadata": {},
   "outputs": [
    {
     "ename": "SyntaxError",
     "evalue": "invalid syntax (<ipython-input-96-d81155b64f9c>, line 2)",
     "output_type": "error",
     "traceback": [
      "\u001b[0;36m  File \u001b[0;32m\"<ipython-input-96-d81155b64f9c>\"\u001b[0;36m, line \u001b[0;32m2\u001b[0m\n\u001b[0;31m    main()\u001b[0m\n\u001b[0m    ^\u001b[0m\n\u001b[0;31mSyntaxError\u001b[0m\u001b[0;31m:\u001b[0m invalid syntax\n"
     ]
    }
   ],
   "source": [
    "@no_type_check\n",
    "main()"
   ]
  },
  {
   "cell_type": "code",
   "execution_count": 63,
   "metadata": {},
   "outputs": [],
   "source": [
    "@app.task\n",
    "async def on_startup(app):\n",
    "    print('STARTING UP: %r' % (app,))"
   ]
  },
  {
   "cell_type": "code",
   "execution_count": 65,
   "metadata": {},
   "outputs": [
    {
     "data": {
      "text/plain": [
       "False"
      ]
     },
     "execution_count": 65,
     "metadata": {},
     "output_type": "execute_result"
    }
   ],
   "source": [
    "app.LiveCheck()."
   ]
  },
  {
   "cell_type": "code",
   "execution_count": 66,
   "metadata": {},
   "outputs": [],
   "source": [
    "import faust\n",
    "import pytest\n",
    "\n",
    "@pytest.mark.asyncio()\n",
    "async def test_process_order():\n",
    "    app.conf.store = 'memory://'\n",
    "    async with process_order.test_context() as agent:\n",
    "        order = Order(account_id='1', product_id='2', amount=1, price=300)\n",
    "        event = await agent.put(order)\n",
    "\n",
    "        # windowed table: we select window relative to the current event\n",
    "        assert orders_for_account['1'].current(event) == 1\n",
    "\n",
    "        # in the window 3 hours ago there were no orders:\n",
    "        assert orders_for_account['1'].delta(3600 * 3, event)\n",
    "\n",
    "\n",
    "class Order(faust.Record, serializer='json'):\n",
    "    account_id: str\n",
    "    product_id: str\n",
    "    amount: int\n",
    "    price: float\n",
    "\n",
    "app = faust.App('test-example')\n",
    "orders_topic = app.topic('orders', value_type=Order)\n",
    "\n",
    "# order count within the last hour (window is a 1-hour TumblingWindow).\n",
    "orders_for_account = app.Table(\n",
    "    'order-count-by-account', default=int,\n",
    ").tumbling(3600).relative_to_stream()\n",
    "\n",
    "@app.agent(orders_topic)\n",
    "async def process_order(orders):\n",
    "    async for order in orders.group_by(Order.account_id):\n",
    "        orders_for_account[order.account_id] += 1\n",
    "        yield order"
   ]
  },
  {
   "cell_type": "code",
   "execution_count": 78,
   "metadata": {},
   "outputs": [],
   "source": [
    "def main() -> None:\n",
    "    app.main()"
   ]
  },
  {
   "cell_type": "code",
   "execution_count": 38,
   "metadata": {},
   "outputs": [
    {
     "ename": "TypeError",
     "evalue": "window_processor() missing 1 required positional argument: 'events'",
     "output_type": "error",
     "traceback": [
      "\u001b[0;31m---------------------------------------------------------------------------\u001b[0m",
      "\u001b[0;31mTypeError\u001b[0m                                 Traceback (most recent call last)",
      "\u001b[0;32m<ipython-input-38-e04811d212f9>\u001b[0m in \u001b[0;36m<module>\u001b[0;34m\u001b[0m\n\u001b[0;32m----> 1\u001b[0;31m \u001b[0mwindow_processor\u001b[0m\u001b[0;34m(\u001b[0m\u001b[0mprint_windowed_events\u001b[0m\u001b[0;34m(\u001b[0m\u001b[0;34m)\u001b[0m\u001b[0;34m)\u001b[0m\u001b[0;34m\u001b[0m\u001b[0;34m\u001b[0m\u001b[0m\n\u001b[0m",
      "\u001b[0;31mTypeError\u001b[0m: window_processor() missing 1 required positional argument: 'events'"
     ]
    }
   ],
   "source": [
    "window_processor(print_windowed_events())"
   ]
  },
  {
   "cell_type": "code",
   "execution_count": null,
   "metadata": {},
   "outputs": [],
   "source": []
  }
 ],
 "metadata": {
  "kernelspec": {
   "display_name": "Python 3",
   "language": "python",
   "name": "python3"
  },
  "language_info": {
   "codemirror_mode": {
    "name": "ipython",
    "version": 3
   },
   "file_extension": ".py",
   "mimetype": "text/x-python",
   "name": "python",
   "nbconvert_exporter": "python",
   "pygments_lexer": "ipython3",
   "version": "3.8.3"
  }
 },
 "nbformat": 4,
 "nbformat_minor": 4
}
