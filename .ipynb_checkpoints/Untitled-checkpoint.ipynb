{
 "cells": [
  {
   "cell_type": "code",
   "execution_count": 1,
   "metadata": {},
   "outputs": [],
   "source": [
    "import os"
   ]
  },
  {
   "cell_type": "code",
   "execution_count": 6,
   "metadata": {},
   "outputs": [
    {
     "data": {
      "text/plain": [
       "['LICENSE',\n",
       " 'Untitled.ipynb',\n",
       " 'Makefile',\n",
       " 'scripts',\n",
       " '.git',\n",
       " 'shared_functions',\n",
       " 'README.md',\n",
       " 'VERSION',\n",
       " '.travis.yml',\n",
       " '.gitignore',\n",
       " 'docker-compose.yaml',\n",
       " 'Task_Integrated_Data_Processing_Solution.pdf',\n",
       " 'research_notebooks',\n",
       " '.ipynb_checkpoints',\n",
       " 'data_processing',\n",
       " 'make.py']"
      ]
     },
     "execution_count": 6,
     "metadata": {},
     "output_type": "execute_result"
    }
   ],
   "source": [
    "os.listdir(os.getcwd())"
   ]
  },
  {
   "cell_type": "code",
   "execution_count": null,
   "metadata": {},
   "outputs": [],
   "source": []
  }
 ],
 "metadata": {
  "kernelspec": {
   "display_name": "Python 3",
   "language": "python",
   "name": "python3"
  },
  "language_info": {
   "codemirror_mode": {
    "name": "ipython",
    "version": 3
   },
   "file_extension": ".py",
   "mimetype": "text/x-python",
   "name": "python",
   "nbconvert_exporter": "python",
   "pygments_lexer": "ipython3",
   "version": "3.8.3"
  }
 },
 "nbformat": 4,
 "nbformat_minor": 4
}
